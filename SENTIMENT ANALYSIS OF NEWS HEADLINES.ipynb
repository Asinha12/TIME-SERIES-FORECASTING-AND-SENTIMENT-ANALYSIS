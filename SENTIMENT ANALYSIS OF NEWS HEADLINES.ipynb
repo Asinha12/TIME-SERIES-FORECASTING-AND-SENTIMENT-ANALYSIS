{
 "cells": [
  {
   "cell_type": "markdown",
   "metadata": {},
   "source": [
    "# SENTIMENT ANALYSIS OF NEWS HEADLINES\n",
    "\n",
    " While, the factors that impact the stock prices are very dynamic, the financial sector does give a lot of importance to news. That would reflect in the stock prices somehow, and we have already witnessed ocassions where sentiments have taken precedence over market fundamentals. We will evaluate the market sentiments from  news headlines, using the ‘nltk.sentiment.vader’ library. After getting all the sentiment scores, we would develop a Classifier to predict the sentiments from any given day's news."
   ]
  },
  {
   "cell_type": "code",
   "execution_count": 1,
   "metadata": {},
   "outputs": [],
   "source": [
    "# Basic imports of python for wrangling and display.\n",
    "import pandas as pd\n",
    "import numpy as np\n",
    "import matplotlib.pyplot as plt\n",
    "%matplotlib inline\n",
    "import matplotlib as mpl\n",
    "import matplotlib.pyplot as plt\n",
    "mpl.rc('axes', labelsize=14)\n",
    "mpl.rc('xtick', labelsize=12)\n",
    "mpl.rc('ytick', labelsize=12)\n",
    "\n",
    "import seaborn as sns\n",
    "sns.set(style='whitegrid', context='talk', palette='Dark2')\n"
   ]
  },
  {
   "cell_type": "code",
   "execution_count": 2,
   "metadata": {},
   "outputs": [],
   "source": [
    "# News is extracted from the availabe dataset.\n",
    "news = pd.read_csv('news.csv', parse_dates=['publish_date'])"
   ]
  },
  {
   "cell_type": "markdown",
   "metadata": {},
   "source": [
    "### Series of Stock prices\n",
    "\n",
    "The news data is very vast and they represent several topics. It is crucial to extract or filter the news that would be most related with the stock prices. So I have selected a ticker from BSE-SENSEX and we could explore its relation with news sentiments for the same period of time."
   ]
  },
  {
   "cell_type": "code",
   "execution_count": 3,
   "metadata": {},
   "outputs": [],
   "source": [
    "# These historical prices have been downloaded from Yahoo Finance\n",
    "stock=pd.read_csv('RELIANCE.BO (1).csv')"
   ]
  },
  {
   "cell_type": "code",
   "execution_count": 4,
   "metadata": {},
   "outputs": [],
   "source": [
    "# The stock price series are resampled to daily frequency, which also takes care of the missing days.\n",
    "stock['Date'] = pd.to_datetime(stock['Date'])\n",
    "stock = stock.set_index('Date')\n",
    "stock = stock.resample('D').fillna(method ='ffill')\n",
    "stock = stock.fillna(method ='ffill')\n",
    "stock = stock[['Close']]\n",
    "stock = stock.loc[pd.date_range(start ='2009-01-02', end ='2009-12-30')]"
   ]
  },
  {
   "cell_type": "code",
   "execution_count": 5,
   "metadata": {},
   "outputs": [
    {
     "data": {
      "text/html": [
       "<div>\n",
       "<style scoped>\n",
       "    .dataframe tbody tr th:only-of-type {\n",
       "        vertical-align: middle;\n",
       "    }\n",
       "\n",
       "    .dataframe tbody tr th {\n",
       "        vertical-align: top;\n",
       "    }\n",
       "\n",
       "    .dataframe thead th {\n",
       "        text-align: right;\n",
       "    }\n",
       "</style>\n",
       "<table border=\"1\" class=\"dataframe\">\n",
       "  <thead>\n",
       "    <tr style=\"text-align: right;\">\n",
       "      <th></th>\n",
       "      <th>Close</th>\n",
       "    </tr>\n",
       "  </thead>\n",
       "  <tbody>\n",
       "    <tr>\n",
       "      <th>2009-01-02</th>\n",
       "      <td>320.975006</td>\n",
       "    </tr>\n",
       "    <tr>\n",
       "      <th>2009-01-03</th>\n",
       "      <td>320.975006</td>\n",
       "    </tr>\n",
       "    <tr>\n",
       "      <th>2009-01-04</th>\n",
       "      <td>320.975006</td>\n",
       "    </tr>\n",
       "    <tr>\n",
       "      <th>2009-01-05</th>\n",
       "      <td>341.437988</td>\n",
       "    </tr>\n",
       "    <tr>\n",
       "      <th>2009-01-06</th>\n",
       "      <td>342.013000</td>\n",
       "    </tr>\n",
       "  </tbody>\n",
       "</table>\n",
       "</div>"
      ],
      "text/plain": [
       "                 Close\n",
       "2009-01-02  320.975006\n",
       "2009-01-03  320.975006\n",
       "2009-01-04  320.975006\n",
       "2009-01-05  341.437988\n",
       "2009-01-06  342.013000"
      ]
     },
     "execution_count": 5,
     "metadata": {},
     "output_type": "execute_result"
    }
   ],
   "source": [
    "stock.head()"
   ]
  },
  {
   "cell_type": "markdown",
   "metadata": {},
   "source": [
    "### Sentiment Analysis of all available news for relevant year. \n",
    "\n",
    "Now here we would analyse all the news headlines for the selected year. For this, we have passed each headline to the sentiment analyser."
   ]
  },
  {
   "cell_type": "code",
   "execution_count": 6,
   "metadata": {},
   "outputs": [],
   "source": [
    "# Cleaning the rows by dropping the missing values and duplicate rows. In cases where a headline has been repeated, it needs to be taken care of, so that they are not over weighted in vecotr format.\n",
    "\n",
    "news = news[news['publish_date'].dt.year == 2009].dropna()\n",
    "news = news[['publish_date', 'headline_text']].drop_duplicates(subset=['headline_text']).reset_index()\n"
   ]
  },
  {
   "cell_type": "code",
   "execution_count": null,
   "metadata": {},
   "outputs": [],
   "source": [
    "# Nltk is an amazing library for Natural Language processing\n",
    "\n",
    "import nltk\n",
    "nltk.download('all')"
   ]
  },
  {
   "cell_type": "markdown",
   "metadata": {},
   "source": [
    "Let's create a Sentiment Analyser object and pass the headlines to it. Then we can  capture the sentiment scores in a DataFrame."
   ]
  },
  {
   "cell_type": "code",
   "execution_count": 7,
   "metadata": {},
   "outputs": [],
   "source": [
    "from nltk.sentiment.vader import SentimentIntensityAnalyzer \n",
    "\n",
    "sia = SentimentIntensityAnalyzer()\n",
    "results = []\n",
    "\n",
    "for line in news['headline_text']:                                                                                                                                                                                                                                                                                                                                                                                                                                                                                                                \n",
    "    pol_score = sia.polarity_scores(line)\n",
    "    results.append(pol_score)\n",
    "\n"
   ]
  },
  {
   "cell_type": "code",
   "execution_count": 8,
   "metadata": {},
   "outputs": [],
   "source": [
    "df = pd.DataFrame(results)"
   ]
  },
  {
   "cell_type": "markdown",
   "metadata": {},
   "source": [
    "Now we can combine the scores with the headlines and label them. Scores above .2 are labelled as 1(positive), below -.2 are labelled as -1(negative) and intermediate scores are labelled 0(neutral).\n"
   ]
  },
  {
   "cell_type": "code",
   "execution_count": 9,
   "metadata": {},
   "outputs": [
    {
     "data": {
      "text/html": [
       "<div>\n",
       "<style scoped>\n",
       "    .dataframe tbody tr th:only-of-type {\n",
       "        vertical-align: middle;\n",
       "    }\n",
       "\n",
       "    .dataframe tbody tr th {\n",
       "        vertical-align: top;\n",
       "    }\n",
       "\n",
       "    .dataframe thead th {\n",
       "        text-align: right;\n",
       "    }\n",
       "</style>\n",
       "<table border=\"1\" class=\"dataframe\">\n",
       "  <thead>\n",
       "    <tr style=\"text-align: right;\">\n",
       "      <th></th>\n",
       "      <th>index</th>\n",
       "      <th>publish_date</th>\n",
       "      <th>headline_text</th>\n",
       "      <th>neg</th>\n",
       "      <th>neu</th>\n",
       "      <th>pos</th>\n",
       "      <th>compound</th>\n",
       "      <th>label</th>\n",
       "    </tr>\n",
       "  </thead>\n",
       "  <tbody>\n",
       "    <tr>\n",
       "      <th>0</th>\n",
       "      <td>656460</td>\n",
       "      <td>2009-01-01</td>\n",
       "      <td>Sterling performance for your eyes only</td>\n",
       "      <td>0.000</td>\n",
       "      <td>1.000</td>\n",
       "      <td>0.0</td>\n",
       "      <td>0.0000</td>\n",
       "      <td>0</td>\n",
       "    </tr>\n",
       "    <tr>\n",
       "      <th>1</th>\n",
       "      <td>656461</td>\n",
       "      <td>2009-01-01</td>\n",
       "      <td>Six common medical myths debunked</td>\n",
       "      <td>0.000</td>\n",
       "      <td>1.000</td>\n",
       "      <td>0.0</td>\n",
       "      <td>0.0000</td>\n",
       "      <td>0</td>\n",
       "    </tr>\n",
       "    <tr>\n",
       "      <th>2</th>\n",
       "      <td>656462</td>\n",
       "      <td>2009-01-01</td>\n",
       "      <td>Tired? Saunter amid greens</td>\n",
       "      <td>0.492</td>\n",
       "      <td>0.508</td>\n",
       "      <td>0.0</td>\n",
       "      <td>-0.4404</td>\n",
       "      <td>-1</td>\n",
       "    </tr>\n",
       "    <tr>\n",
       "      <th>3</th>\n",
       "      <td>656463</td>\n",
       "      <td>2009-01-01</td>\n",
       "      <td>No New Years bash for Krishna</td>\n",
       "      <td>0.306</td>\n",
       "      <td>0.694</td>\n",
       "      <td>0.0</td>\n",
       "      <td>-0.2960</td>\n",
       "      <td>-1</td>\n",
       "    </tr>\n",
       "    <tr>\n",
       "      <th>4</th>\n",
       "      <td>656464</td>\n",
       "      <td>2009-01-01</td>\n",
       "      <td>Second-year arts student finds a way to beat t...</td>\n",
       "      <td>0.000</td>\n",
       "      <td>1.000</td>\n",
       "      <td>0.0</td>\n",
       "      <td>0.0000</td>\n",
       "      <td>0</td>\n",
       "    </tr>\n",
       "  </tbody>\n",
       "</table>\n",
       "</div>"
      ],
      "text/plain": [
       "    index publish_date                                      headline_text  \\\n",
       "0  656460   2009-01-01            Sterling performance for your eyes only   \n",
       "1  656461   2009-01-01                  Six common medical myths debunked   \n",
       "2  656462   2009-01-01                         Tired? Saunter amid greens   \n",
       "3  656463   2009-01-01                      No New Years bash for Krishna   \n",
       "4  656464   2009-01-01  Second-year arts student finds a way to beat t...   \n",
       "\n",
       "     neg    neu  pos  compound  label  \n",
       "0  0.000  1.000  0.0    0.0000      0  \n",
       "1  0.000  1.000  0.0    0.0000      0  \n",
       "2  0.492  0.508  0.0   -0.4404     -1  \n",
       "3  0.306  0.694  0.0   -0.2960     -1  \n",
       "4  0.000  1.000  0.0    0.0000      0  "
      ]
     },
     "execution_count": 9,
     "metadata": {},
     "output_type": "execute_result"
    }
   ],
   "source": [
    "# Now we can combine the scores with the headlines and label them. Scores above .2 are labelled as 1(positive), below -.2 are labelled as -1(negative) and intermediate scores are labelled 0(neutral).\n",
    "\n",
    "newdf = pd.concat([news,df], axis=1)\n",
    "newdf['label'] = 0\n",
    "newdf.loc[newdf['compound'] >= 0.2, 'label'] = 1\n",
    "newdf.loc[newdf['compound'] < -0.2, 'label'] = -1\n",
    "newdf.head()"
   ]
  },
  {
   "cell_type": "code",
   "execution_count": 10,
   "metadata": {},
   "outputs": [
    {
     "data": {
      "text/plain": [
       "Text(0, 0.5, 'Count of news headlines')"
      ]
     },
     "execution_count": 10,
     "metadata": {},
     "output_type": "execute_result"
    },
    {
     "data": {
      "image/png": "[encoded data removed]",
      "text/plain": [
       "<Figure size 432x288 with 1 Axes>"
      ]
     },
     "metadata": {},
     "output_type": "display_data"
    }
   ],
   "source": [
    "# Let's see the count of headlines under each label\n",
    "sns.barplot(x = newdf['label'].value_counts().index, y = newdf['label'].value_counts())\n",
    "plt.xlabel('Sentiment Labels')\n",
    "plt.ylabel('Count of news headlines')"
   ]
  },
  {
   "cell_type": "code",
   "execution_count": 11,
   "metadata": {},
   "outputs": [
    {
     "data": {
      "text/plain": [
       " 0    105285\n",
       "-1     51405\n",
       " 1     34677\n",
       "Name: label, dtype: int64"
      ]
     },
     "execution_count": 11,
     "metadata": {},
     "output_type": "execute_result"
    }
   ],
   "source": [
    "newdf['label'].value_counts()"
   ]
  },
  {
   "cell_type": "markdown",
   "metadata": {},
   "source": [
    "Now we have 51405 headlines which are negative(-1) and 34677 headlines which are positive(+1)."
   ]
  },
  {
   "cell_type": "markdown",
   "metadata": {},
   "source": [
    "Lets look at the correlation between the news sentiments and headlines. We first calculate the sum of these labels for a given day. Generally, news are likely to impact the stock prices of the following day so the scores are shifted by a day. "
   ]
  },
  {
   "cell_type": "code",
   "execution_count": 12,
   "metadata": {},
   "outputs": [
    {
     "data": {
      "text/html": [
       "<div>\n",
       "<style scoped>\n",
       "    .dataframe tbody tr th:only-of-type {\n",
       "        vertical-align: middle;\n",
       "    }\n",
       "\n",
       "    .dataframe tbody tr th {\n",
       "        vertical-align: top;\n",
       "    }\n",
       "\n",
       "    .dataframe thead th {\n",
       "        text-align: right;\n",
       "    }\n",
       "</style>\n",
       "<table border=\"1\" class=\"dataframe\">\n",
       "  <thead>\n",
       "    <tr style=\"text-align: right;\">\n",
       "      <th></th>\n",
       "      <th>Close</th>\n",
       "      <th>shift_label</th>\n",
       "    </tr>\n",
       "  </thead>\n",
       "  <tbody>\n",
       "    <tr>\n",
       "      <th>Close</th>\n",
       "      <td>1.000000</td>\n",
       "      <td>0.046758</td>\n",
       "    </tr>\n",
       "    <tr>\n",
       "      <th>shift_label</th>\n",
       "      <td>0.046758</td>\n",
       "      <td>1.000000</td>\n",
       "    </tr>\n",
       "  </tbody>\n",
       "</table>\n",
       "</div>"
      ],
      "text/plain": [
       "                Close  shift_label\n",
       "Close        1.000000     0.046758\n",
       "shift_label  0.046758     1.000000"
      ]
     },
     "execution_count": 12,
     "metadata": {},
     "output_type": "execute_result"
    }
   ],
   "source": [
    "df2 = newdf.groupby('publish_date')['label'].sum()\n",
    "df3 = df2.resample('D').fillna(method = 'ffill')\n",
    "df = pd.concat([stock, df3], axis = 1).dropna()\n",
    "df['shift_label'] = df['label'].shift()\n",
    "df[['Close', 'shift_label']].corr()"
   ]
  },
  {
   "cell_type": "code",
   "execution_count": null,
   "metadata": {},
   "outputs": [],
   "source": [
    "The correlation is around 4% which is weak. This is due to the fact that we have included all headlines in general."
   ]
  },
  {
   "cell_type": "markdown",
   "metadata": {},
   "source": [
    "### Sentiment Analysis of selective news for relevant year\n",
    "\n",
    "Let's take a relook at the dataset and select the categories that closely represents the financial sector. The stock being a Sensex ticker is more responsive to macro level financial news. I would also recommend to use more filters i.e words that would be specific to the company and the industry it represents."
   ]
  },
  {
   "cell_type": "code",
   "execution_count": 42,
   "metadata": {},
   "outputs": [],
   "source": [
    "news = pd.read_csv('news.csv', parse_dates = ['publish_date'])"
   ]
  },
  {
   "cell_type": "code",
   "execution_count": 43,
   "metadata": {},
   "outputs": [],
   "source": [
    " pd.options.display.max_rows = 200"
   ]
  },
  {
   "cell_type": "code",
   "execution_count": 44,
   "metadata": {},
   "outputs": [
    {
     "data": {
      "text/plain": [
       "india                                          143710\n",
       "unknown                                        134195\n",
       "business.india-business                         50144\n",
       "city.delhi                                      46247\n",
       "city.mumbai                                     42581\n",
       "city.bengaluru                                  40641\n",
       "city.lucknow                                    35305\n",
       "city.hyderabad                                  35088\n",
       "city.chandigarh                                 34679\n",
       "city.ahmedabad                                  34059\n",
       "city.patna                                      31217\n",
       "city.pune                                       29507\n",
       "city.kolkata                                    29153\n",
       "entertainment.hindi.bollywood                   27819\n",
       "sports.icc-world-cup-2015                       24006\n",
       "city.chennai                                    12974\n",
       "edit-page                                       11730\n",
       "city.goa                                        11539\n",
       "entertainment.english.hollywood                 10907\n",
       "city.nagpur                                     10035\n",
       "city.jaipur                                      8672\n",
       "world.us                                         7696\n",
       "world.rest-of-world                              7380\n",
       "delhi-times                                      7356\n",
       "city.thiruvananthapuram                          7018\n",
       "lucknow-times                                    6704\n",
       "tech                                             6691\n",
       "bombay-times                                     6487\n",
       "calcutta-times                                   5717\n",
       "city.hubballi                                    5549\n",
       "cricket                                          5451\n",
       "pune-times                                       5390\n",
       "world.pakistan                                   5090\n",
       "city.allahabad                                   5052\n",
       "city.kanpur                                      5036\n",
       "city.varanasi                                    5007\n",
       "hyderabad-times                                  4960\n",
       "city.ludhiana                                    4922\n",
       "bangalore-times                                  4885\n",
       "home.science                                     4588\n",
       "top-stories                                      4425\n",
       "city.mangaluru                                   4223\n",
       "tv.news.hindi                                    3961\n",
       "ahmedabad-times                                  3961\n",
       "top-headlines                                    3949\n",
       "tech.tech-news                                   3834\n",
       "city.mysuru                                      3705\n",
       "sports.football                                  3667\n",
       "business.international-business                  3658\n",
       "city.vadodara                                    3571\n",
       "city.surat                                       3481\n",
       "city.rajkot                                      3453\n",
       "city.ranchi                                      2992\n",
       "news                                             2864\n",
       "life-style.health-fitness.health-news            2832\n",
       "sports.tennis                                    2622\n",
       "home.sunday-times.deep-focus                     2617\n",
       "entertainment.events.mumbai                      2482\n",
       "entertainment.events.others                      2453\n",
       "home.education                                   2408\n",
       "sports.golf                                      2219\n",
       "city.bhubaneswar                                 2165\n",
       "home.sunday-times.all-that-matters               2004\n",
       "life-style                                       1974\n",
       "world.uk                                         1905\n",
       "blogs                                            1751\n",
       "sports                                           1631\n",
       "others.news-interviews                           1567\n",
       "entertainment.events.delhi                       1566\n",
       "entertainment                                    1551\n",
       "world.china                                      1352\n",
       "removed                                          1315\n",
       "entertainment.events                             1287\n",
       "world.south-asia                                 1253\n",
       "videos                                           1245\n",
       "city.gurgaon                                     1213\n",
       "sports.more-sports.others                        1195\n",
       "city.thane                                       1195\n",
       "entertainment.events.hyderabad                   1171\n",
       "speak-out                                        1100\n",
       "auto                                             1096\n",
       "city.guwahati                                    1023\n",
       "home.environment.flora-fauna                      988\n",
       "life-style.relationships.man-woman                951\n",
       "entertainment.events.kolkata                      920\n",
       "world.europe                                      915\n",
       "entertainment.events.chennai                      891\n",
       "entertainment.events.bangalore                    886\n",
       "india-news                                        849\n",
       "entertainment.hindi.music.news                    793\n",
       "gadgets-special                                   778\n",
       "tech.it-services                                  778\n",
       "business.personal-finance                         729\n",
       "world.middle-east                                 686\n",
       "life-style.fashion.shows                          659\n",
       "photos                                            654\n",
       "entertainment.tamil.movies.news                   636\n",
       "sports.badminton                                  598\n",
       "sports.headline1                                  589\n",
       "interviews                                        580\n",
       "tech.computing                                    571\n",
       "talk-radio                                        501\n",
       "sports.boxing                                     450\n",
       "tech.jobs                                         441\n",
       "home.environment.global-warming                   405\n",
       "entertainment.bengali.movies.news                 375\n",
       "nagpur-times                                      374\n",
       "regional                                          372\n",
       "entertainment.english.movie-review                362\n",
       "citizens-grievances                               360\n",
       "home.environment.developmental-issues             359\n",
       "entertainment.hindi.movie-review                  359\n",
       "sports.off-the-field                              349\n",
       "home.environment.pollution                        341\n",
       "life-style.fashion.designers                      315\n",
       "sports.hockey                                     299\n",
       "hyderabad.local-sports                            295\n",
       "sports.chess                                      289\n",
       "sports.more-sports.athletics                      287\n",
       "subverse                                          256\n",
       "life-style.relationships.parenting                248\n",
       "home.environment.the-good-earth                   245\n",
       "sports.more-sports.shooting                       239\n",
       "life-style.people                                 233\n",
       "world.mad-mad-world                               230\n",
       "sports.more-sports.snooker.billiards              229\n",
       "nri.community                                     215\n",
       "life-style.beauty                                 212\n",
       "specials                                          187\n",
       "sa-aiyar.swaminomics                              185\n",
       "entertainment.telugu.movies.news                  185\n",
       "sports.racing                                     184\n",
       "delhi                                             178\n",
       "life-style.health-fitness.fitness                 178\n",
       "bachi-karkaria.erratica                           173\n",
       "sports.new-zealand-in-india-2016                  173\n",
       "war-on-iraq.news                                  172\n",
       "other-racing.others                               169\n",
       "jug-suraiya.jugular-vein                          165\n",
       "stories                                           165\n",
       "entertainment.kannada.movies.news                 156\n",
       "indian-challenges                                 145\n",
       "entertainment.movies                              140\n",
       "life-style.fashion.trends                         139\n",
       "tech.how-to                                       132\n",
       "silver-jubilee                                    128\n",
       "entertainment.kannada.movie-reviews               122\n",
       "hyderabad                                         122\n",
       "life-style.relationships.work                     122\n",
       "entertainment.hindi.music.music-events            119\n",
       "entertainment.events.goa                          119\n",
       "other-top-stories                                 116\n",
       "tech.social                                       115\n",
       "trivia                                            114\n",
       "pune                                              112\n",
       "formula-one                                       109\n",
       "mumbai                                            105\n",
       "more-stories                                      101\n",
       "tarun-vijay.the-right-view                         97\n",
       "life-style.food.food-reviews                       97\n",
       "campaign-trail                                     96\n",
       "shobhaa-de.politically-incorrect                   95\n",
       "sports.more-sports.wrestling                       95\n",
       "young-india-votes.news                             95\n",
       "entertainment.bengali.movie-reviews                90\n",
       "sports.football.epl                                88\n",
       "movie-reviews                                      87\n",
       "sports.new-zealand-in-india-2016.interviews        85\n",
       "gurcharan-das.men-ideas                            84\n",
       "shashi-tharoor.shashi-on-sunday                    83\n",
       "chidanand-rajghatta.indiaspora                     82\n",
       "sars-scare.news                                    81\n",
       "hot-on-the-web                                     75\n",
       "entertainment.tamil.movie-reviews                  74\n",
       "iraq-hostage-drama                                 73\n",
       "players-to-watch                                   72\n",
       "birla-will-saga                                    68\n",
       "indo-pak-monitor.news                              67\n",
       "young-india-votes.from-the-states                  64\n",
       "home.environment.wild-wacky                        63\n",
       "life-style.food.recipes                            63\n",
       "2010-stars                                         61\n",
       "also-read                                          61\n",
       "sports.tennis.interviews                           60\n",
       "bangalore                                          60\n",
       "city                                               60\n",
       "election-2008                                      59\n",
       "vinita-dawra-nangia                                59\n",
       "quote-of-the-day                                   58\n",
       "life-style.health-fitness.diet                     58\n",
       "sports.football.interviews                         58\n",
       "reporters-diary                                    58\n",
       "business                                           58\n",
       "olympics                                           57\n",
       "jug-suraiya.second-opinion                         57\n",
       "tech.gaming                                        56\n",
       "star-candidates                                    52\n",
       "off-the-field                                      51\n",
       "baroda                                             49\n",
       "first-look                                         48\n",
       "Name: headline_category, dtype: int64"
      ]
     },
     "execution_count": 44,
     "metadata": {},
     "output_type": "execute_result"
    }
   ],
   "source": [
    "news['headline_category'].value_counts().head(200)"
   ]
  },
  {
   "cell_type": "code",
   "execution_count": 45,
   "metadata": {},
   "outputs": [],
   "source": [
    "# Here we select relevant news categories and create a column 'ticker' with an indicator 1 for selected category.\n",
    "\n",
    "news['ticker'] = news['headline_category'].apply(lambda x: np.where('business.india-business' in x or 'top-headlines' in x or 'business' in x , 1,0 ))"
   ]
  },
  {
   "cell_type": "code",
   "execution_count": 46,
   "metadata": {},
   "outputs": [
    {
     "data": {
      "text/plain": [
       "1048575"
      ]
     },
     "execution_count": 46,
     "metadata": {},
     "output_type": "execute_result"
    }
   ],
   "source": [
    "len(news)"
   ]
  },
  {
   "cell_type": "markdown",
   "metadata": {},
   "source": [
    "Here we have around 9000 hnews headlines for the year in consideration. Now we can repeat the steps for computing the Sentiment scores."
   ]
  },
  {
   "cell_type": "code",
   "execution_count": 47,
   "metadata": {},
   "outputs": [],
   "source": [
    "news = news[(news['ticker'] == 1) & (news['publish_date'].dt.year == 2009)].dropna()\n",
    "news = news[['publish_date', 'headline_text']].drop_duplicates(subset = ['headline_text'])"
   ]
  },
  {
   "cell_type": "code",
   "execution_count": 49,
   "metadata": {},
   "outputs": [
    {
     "data": {
      "text/html": [
       "<div>\n",
       "<style scoped>\n",
       "    .dataframe tbody tr th:only-of-type {\n",
       "        vertical-align: middle;\n",
       "    }\n",
       "\n",
       "    .dataframe tbody tr th {\n",
       "        vertical-align: top;\n",
       "    }\n",
       "\n",
       "    .dataframe thead th {\n",
       "        text-align: right;\n",
       "    }\n",
       "</style>\n",
       "<table border=\"1\" class=\"dataframe\">\n",
       "  <thead>\n",
       "    <tr style=\"text-align: right;\">\n",
       "      <th></th>\n",
       "      <th>index</th>\n",
       "      <th>publish_date</th>\n",
       "      <th>headline_text</th>\n",
       "      <th>neg</th>\n",
       "      <th>neu</th>\n",
       "      <th>pos</th>\n",
       "      <th>compound</th>\n",
       "      <th>label</th>\n",
       "    </tr>\n",
       "  </thead>\n",
       "  <tbody>\n",
       "    <tr>\n",
       "      <th>0</th>\n",
       "      <td>656552</td>\n",
       "      <td>2009-01-01</td>\n",
       "      <td>Bajaj brothers withdraw petitions from CLB</td>\n",
       "      <td>0.000</td>\n",
       "      <td>1.000</td>\n",
       "      <td>0.000</td>\n",
       "      <td>0.0000</td>\n",
       "      <td>0</td>\n",
       "    </tr>\n",
       "    <tr>\n",
       "      <th>1</th>\n",
       "      <td>656553</td>\n",
       "      <td>2009-01-01</td>\n",
       "      <td>BSNL offers IPTV services</td>\n",
       "      <td>0.000</td>\n",
       "      <td>1.000</td>\n",
       "      <td>0.000</td>\n",
       "      <td>0.0000</td>\n",
       "      <td>0</td>\n",
       "    </tr>\n",
       "    <tr>\n",
       "      <th>2</th>\n",
       "      <td>656554</td>\n",
       "      <td>2009-01-01</td>\n",
       "      <td>ICICI slashes home loan rate</td>\n",
       "      <td>0.310</td>\n",
       "      <td>0.690</td>\n",
       "      <td>0.000</td>\n",
       "      <td>-0.2023</td>\n",
       "      <td>-1</td>\n",
       "    </tr>\n",
       "    <tr>\n",
       "      <th>3</th>\n",
       "      <td>656555</td>\n",
       "      <td>2009-01-01</td>\n",
       "      <td>Jet sweetens its fare cut</td>\n",
       "      <td>0.344</td>\n",
       "      <td>0.656</td>\n",
       "      <td>0.000</td>\n",
       "      <td>-0.2732</td>\n",
       "      <td>-1</td>\n",
       "    </tr>\n",
       "    <tr>\n",
       "      <th>4</th>\n",
       "      <td>656556</td>\n",
       "      <td>2009-01-01</td>\n",
       "      <td>AI aims to win back market leadership: CMD</td>\n",
       "      <td>0.000</td>\n",
       "      <td>0.648</td>\n",
       "      <td>0.352</td>\n",
       "      <td>0.5859</td>\n",
       "      <td>1</td>\n",
       "    </tr>\n",
       "  </tbody>\n",
       "</table>\n",
       "</div>"
      ],
      "text/plain": [
       "    index publish_date                               headline_text    neg  \\\n",
       "0  656552   2009-01-01  Bajaj brothers withdraw petitions from CLB  0.000   \n",
       "1  656553   2009-01-01                   BSNL offers IPTV services  0.000   \n",
       "2  656554   2009-01-01                ICICI slashes home loan rate  0.310   \n",
       "3  656555   2009-01-01                   Jet sweetens its fare cut  0.344   \n",
       "4  656556   2009-01-01  AI aims to win back market leadership: CMD  0.000   \n",
       "\n",
       "     neu    pos  compound  label  \n",
       "0  1.000  0.000    0.0000      0  \n",
       "1  1.000  0.000    0.0000      0  \n",
       "2  0.690  0.000   -0.2023     -1  \n",
       "3  0.656  0.000   -0.2732     -1  \n",
       "4  0.648  0.352    0.5859      1  "
      ]
     },
     "execution_count": 49,
     "metadata": {},
     "output_type": "execute_result"
    }
   ],
   "source": [
    "from nltk.sentiment.vader import SentimentIntensityAnalyzer \n",
    "\n",
    "# Instantiate the sentiment intensity analyzer with the existing lexicon\n",
    "sia = SentimentIntensityAnalyzer()\n",
    "\n",
    "# New words and values\n",
    "#new_words = {    'crushes': 10,    'beats': 5,    'misses': -5,    'trouble': -10,    'falls': -10,}\n",
    "\n",
    "# Update the lexicon\n",
    "#sia.lexicon.update(new_words)\n",
    "\n",
    "\n",
    "results = []\n",
    "\n",
    "for line in news['headline_text']:                                                                                                                                                                                                                                                                                                                                                                                                                                                                                                                \n",
    "    pol_score = sia.polarity_scores(line)\n",
    "    results.append(pol_score)\n",
    "\n",
    "# Convert the results into a DataFrame\n",
    "news = news.reset_index()\n",
    "df = pd.DataFrame(results)\n",
    "df2 = pd.concat([news,df], axis=1)\n",
    "\n",
    "# Assign labels\n",
    "df2['label'] = 0\n",
    "df2.loc[df2['compound'] >= 0.2, 'label'] = 1\n",
    "df2.loc[df2['compound'] < -0.2, 'label'] = -1\n",
    "df2.head()"
   ]
  },
  {
   "cell_type": "code",
   "execution_count": 50,
   "metadata": {},
   "outputs": [
    {
     "data": {
      "text/plain": [
       "Text(0, 0.5, 'Count of news headlines')"
      ]
     },
     "execution_count": 50,
     "metadata": {},
     "output_type": "execute_result"
    },
    {
     "data": {
      "image/png": "[encoded data removed]",
      "text/plain": [
       "<Figure size 432x288 with 1 Axes>"
      ]
     },
     "metadata": {},
     "output_type": "display_data"
    }
   ],
   "source": [
    "sns.barplot(x = df2['label'].value_counts().index, y = df2['label'].value_counts())\n",
    "plt.xlabel('Sentiment Labels')\n",
    "plt.ylabel('Count of news headlines')"
   ]
  },
  {
   "cell_type": "code",
   "execution_count": 51,
   "metadata": {},
   "outputs": [
    {
     "data": {
      "text/plain": [
       " 0    5442\n",
       " 1    1968\n",
       "-1    1668\n",
       "Name: label, dtype: int64"
      ]
     },
     "execution_count": 51,
     "metadata": {},
     "output_type": "execute_result"
    }
   ],
   "source": [
    "df2['label'].value_counts()"
   ]
  },
  {
   "cell_type": "markdown",
   "metadata": {},
   "source": [
    "There are 1968 positive headlines and 1668 negative headlines."
   ]
  },
  {
   "cell_type": "markdown",
   "metadata": {},
   "source": [
    "### Correlation between news sentiments and stock prices"
   ]
  },
  {
   "cell_type": "code",
   "execution_count": 52,
   "metadata": {},
   "outputs": [],
   "source": [
    "# Exclude 0 labels\n",
    "df2 = df2.loc[(df2['label'] != 0), :]\n"
   ]
  },
  {
   "cell_type": "code",
   "execution_count": 53,
   "metadata": {},
   "outputs": [
    {
     "data": {
      "text/html": [
       "<div>\n",
       "<style scoped>\n",
       "    .dataframe tbody tr th:only-of-type {\n",
       "        vertical-align: middle;\n",
       "    }\n",
       "\n",
       "    .dataframe tbody tr th {\n",
       "        vertical-align: top;\n",
       "    }\n",
       "\n",
       "    .dataframe thead th {\n",
       "        text-align: right;\n",
       "    }\n",
       "</style>\n",
       "<table border=\"1\" class=\"dataframe\">\n",
       "  <thead>\n",
       "    <tr style=\"text-align: right;\">\n",
       "      <th></th>\n",
       "      <th>Close</th>\n",
       "      <th>shift_label</th>\n",
       "    </tr>\n",
       "  </thead>\n",
       "  <tbody>\n",
       "    <tr>\n",
       "      <th>Close</th>\n",
       "      <td>1.000000</td>\n",
       "      <td>0.179939</td>\n",
       "    </tr>\n",
       "    <tr>\n",
       "      <th>shift_label</th>\n",
       "      <td>0.179939</td>\n",
       "      <td>1.000000</td>\n",
       "    </tr>\n",
       "  </tbody>\n",
       "</table>\n",
       "</div>"
      ],
      "text/plain": [
       "                Close  shift_label\n",
       "Close        1.000000     0.179939\n",
       "shift_label  0.179939     1.000000"
      ]
     },
     "execution_count": 53,
     "metadata": {},
     "output_type": "execute_result"
    }
   ],
   "source": [
    "\n",
    "df3 = df2.groupby('publish_date')['label'].sum()\n",
    "df3 = df3.resample('D').fillna(method ='ffill')\n",
    "df = pd.concat([stock, df3], axis = 1).dropna()\n",
    "df['shift_label'] = df['label'].shift()\n",
    "df[['Close', 'shift_label']].corr()"
   ]
  },
  {
   "cell_type": "markdown",
   "metadata": {},
   "source": [
    "The correlation of 18% is much better here as being selective paid off. And there is more room for improvement."
   ]
  },
  {
   "cell_type": "markdown",
   "metadata": {},
   "source": [
    "### Sentiment Classifier"
   ]
  },
  {
   "cell_type": "code",
   "execution_count": 54,
   "metadata": {},
   "outputs": [],
   "source": [
    "# We can create a model that learns from teh past data of newsheadlines and use it to predict the sentimaent labels directly for each new piece of headline.\n",
    "# Now we import the classification algorithms, classififcation metrics and shuffle split. We also import count vertorizer which will convert the headlines in vector form. \n",
    "from sklearn.metrics import accuracy_score, f1_score, confusion_matrix, classification_report\n",
    "from sklearn.naive_bayes import MultinomialNB\n",
    "from sklearn.linear_model import LogisticRegression\n",
    "from sklearn.model_selection import train_test_split\n",
    "from sklearn.model_selection import ShuffleSplit\n",
    "from sklearn.feature_extraction.text import CountVectorizer\n",
    "\n",
    "from sklearn.svm import LinearSVC\n",
    "from sklearn.ensemble import RandomForestClassifier\n"
   ]
  },
  {
   "cell_type": "code",
   "execution_count": 55,
   "metadata": {},
   "outputs": [],
   "source": [
    "X = df2['headline_text']\n",
    "y = df2['label']\n",
    "\n",
    "\n",
    "# Create a Shuffle split object and count vectorizer object\n",
    "ssplit = ShuffleSplit(n_splits=10, test_size=0.2)\n",
    "vect = CountVectorizer(max_features=700, binary=True) #(max_features=1000, binary=True)\n",
    "\n",
    "# Prepare a list of Classification models\n",
    "models = [\n",
    "    MultinomialNB(),\n",
    "    LinearSVC(),\n",
    "    RandomForestClassifier(),\n",
    "    LogisticRegression()\n",
    "    ]\n",
    "\n",
    "# Create a dictionary to store the metric scores for each model\n",
    "results = {\n",
    "    model.__class__.__name__: {\n",
    "        'accuracy': [], \n",
    "        'f1_score': [],\n",
    "        'confusion_matrix': []\n",
    "    } for model in models\n",
    "}\n",
    "\n",
    "\n",
    "# Iterate for each train test split\n",
    "for train_index, test_index in ssplit.split(X):\n",
    "    \n",
    "    X_train, X_test = X.iloc[train_index], X.iloc[test_index]\n",
    "    y_train, y_test = y.iloc[train_index], y.iloc[test_index]\n",
    "    \n",
    "    # Fit vectorizer and transform X train, then transform X test\n",
    "    X_train = vect.fit_transform(X_train)\n",
    "    X_test = vect.transform(X_test)\n",
    "    \n",
    "    \n",
    "    # Fit Naive Bayes on the vectorized X and y train labels\n",
    "    # then predict new y labels using X test\n",
    "    \n",
    "    for model in models:\n",
    "        model.fit(X_train, y_train)\n",
    "        y_pred = model.predict(X_test)\n",
    "        \n",
    "        # Determine test set accuracy and weighted f1 score on this fold.\n",
    "        acc = accuracy_score(y_test, y_pred)\n",
    "        f1 = f1_score(y_test, y_pred, average = 'weighted')\n",
    "        cm = confusion_matrix(y_test, y_pred)\n",
    "        \n",
    "        # Update the list\n",
    "        results[model.__class__.__name__]['accuracy'].append(acc)\n",
    "        results[model.__class__.__name__]['f1_score'].append(f1)\n",
    "        results[model.__class__.__name__]['confusion_matrix'].append(cm)\n",
    "    \n"
   ]
  },
  {
   "cell_type": "code",
   "execution_count": 56,
   "metadata": {},
   "outputs": [
    {
     "name": "stdout",
     "output_type": "stream",
     "text": [
      "MultinomialNB\n",
      "------------------------------\n",
      "        Avg. Accuracy: 81.95%\n",
      "        Avg. F1 Score: 81.95\n",
      "        Avg. Confusion Matrix: \n",
      "        \n",
      "[[271.1  66.3]\n",
      " [ 65.1 325.5]]\n",
      "        \n",
      "LinearSVC\n",
      "------------------------------\n",
      "        Avg. Accuracy: 81.33%\n",
      "        Avg. F1 Score: 81.32\n",
      "        Avg. Confusion Matrix: \n",
      "        \n",
      "[[266.6  70.8]\n",
      " [ 65.1 325.5]]\n",
      "        \n",
      "RandomForestClassifier\n",
      "------------------------------\n",
      "        Avg. Accuracy: 81.09%\n",
      "        Avg. F1 Score: 81.10\n",
      "        Avg. Confusion Matrix: \n",
      "        \n",
      "[[274.3  63.1]\n",
      " [ 74.6 316. ]]\n",
      "        \n",
      "LogisticRegression\n",
      "------------------------------\n",
      "        Avg. Accuracy: 82.42%\n",
      "        Avg. F1 Score: 82.37\n",
      "        Avg. Confusion Matrix: \n",
      "        \n",
      "[[264.1  73.3]\n",
      " [ 54.7 335.9]]\n",
      "        \n"
     ]
    }
   ],
   "source": [
    "for model, d in results.items():\n",
    "    avg_acc = sum(d['accuracy']) / len(d['accuracy']) * 100\n",
    "    avg_f1 = sum(d['f1_score']) / len(d['f1_score']) * 100\n",
    "    avg_cm = sum(d['confusion_matrix']) / len(d['confusion_matrix'])\n",
    "    \n",
    "    slashes = '-' * 30\n",
    "    \n",
    "    s = f\"\"\"{model}\\n{slashes}\n",
    "        Avg. Accuracy: {avg_acc:.2f}%\n",
    "        Avg. F1 Score: {avg_f1:.2f}\n",
    "        Avg. Confusion Matrix: \n",
    "        \\n{avg_cm}\n",
    "        \"\"\"\n",
    "    print(s)"
   ]
  },
  {
   "cell_type": "markdown",
   "metadata": {},
   "source": [
    "\n",
    "All these models have around the same level(80% to 82%) of Accuracy and Weighted F1 score. Logsitic Regression has a slightly better accuracy but the False negatives are higher that false posiives.In this regards Multinomial NB classifer would be better."
   ]
  },
  {
   "cell_type": "markdown",
   "metadata": {},
   "source": [
    "References and Resources:\n",
    "    1. https://www.kaggle.com/rohit0906/stock-sentiment-analysis-using-news-headlines\n",
    "    2. https://www.learndatasci.com/tutorials/sentiment-analysis-reddit-headlines-pythons-nltk/\n",
    "    3. https://www.datacamp.com/community/tutorials/simplifying-sentiment-analysis-python"
   ]
  }
 ],
 "metadata": {
  "kernelspec": {
   "display_name": "Python 3",
   "language": "python",
   "name": "python3"
  },
  "language_info": {
   "codemirror_mode": {
    "name": "ipython",
    "version": 3
   },
   "file_extension": ".py",
   "mimetype": "text/x-python",
   "name": "python",
   "nbconvert_exporter": "python",
   "pygments_lexer": "ipython3",
   "version": "3.8.3"
  }
 },
 "nbformat": 4,
 "nbformat_minor": 4
}
